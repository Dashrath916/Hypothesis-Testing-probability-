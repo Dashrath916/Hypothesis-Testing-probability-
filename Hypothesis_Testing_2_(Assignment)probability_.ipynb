{
  "nbformat": 4,
  "nbformat_minor": 0,
  "metadata": {
    "colab": {
      "provenance": []
    },
    "kernelspec": {
      "name": "python3",
      "display_name": "Python 3"
    },
    "language_info": {
      "name": "python"
    }
  },
  "cells": [
    {
      "cell_type": "markdown",
      "source": [
        "#Assignment Questions\n",
        "\n",
        " Question-1\n",
        "\n",
        " The average weight of a certain breed of dogs is known to be 25 kilograms with a standard deviation of 3 kilograms. If the weights of these dogs are normally distributed, what is the probability that a randomly selected dog from this breed weighs less than 20 kilograms? Use the Z table to find the probability.\n"
      ],
      "metadata": {
        "id": "CZA5ziOSv2V5"
      }
    },
    {
      "cell_type": "code",
      "source": [
        "#solution"
      ],
      "metadata": {
        "id": "_A-RLL6XwrTC"
      },
      "execution_count": null,
      "outputs": []
    },
    {
      "cell_type": "markdown",
      "source": [
        "The Z-score formula is as follows:\n",
        "\n",
        "        Z= X−μ/σ\n",
        "​\n",
        "\n",
        "\n",
        "Where:\n",
        "\n",
        "* Z is the Z-score.\n",
        "\n",
        "* X is the value you want to find the probability for (in this case, 20 kilograms).\n",
        "\n",
        "* μ is the mean (average weight), which is 25 kilograms.\n",
        "\n",
        "* σ is the standard deviation, which is 3 kilograms.\n",
        "Now, calculate the Z-score for 20 kilograms:\n",
        "\n",
        "       Z = 20-25/3\n",
        "\n",
        "       Z = -5/3\n",
        "\n",
        "       Z = -1.67\n",
        "\n",
        "\n",
        "\n",
        "Next, we can use a Z-table or a calculator that provides Z-table lookup to find the probability associated with a Z-score of approximately -1.67.\n",
        "\n",
        "Looking up a Z-table or using a calculator, we will find that the probability of a Z-score less than -1.67 is approximately 0.04746. This is the probability that a randomly selected dog from this breed weight less than 20 kilograms.\n",
        "\n",
        "        So, the probability that a randomly selected dog from this breed weight less than 20 kilograms is approximately 0.04746, or 4.74%."
      ],
      "metadata": {
        "id": "ym1OinnUwVtc"
      }
    },
    {
      "cell_type": "code",
      "source": [],
      "metadata": {
        "id": "PriVxTsbwhVd"
      },
      "execution_count": null,
      "outputs": []
    },
    {
      "cell_type": "markdown",
      "source": [
        "Question-2\n",
        "\n",
        "  The time taken to assemble a product in a factory is  normally distributed with a mean of 25 minutes and a standard deviation of 4 minutes. What is the probability that a randomly chosen assembly takes more than 30 minutes? Use the Z table to find the probability"
      ],
      "metadata": {
        "id": "Xu4JIQ0C07i2"
      }
    },
    {
      "cell_type": "code",
      "source": [
        "##Solution"
      ],
      "metadata": {
        "id": "F2OcarGE1Ety"
      },
      "execution_count": null,
      "outputs": []
    },
    {
      "cell_type": "markdown",
      "source": [
        "To find the probability that a randomly chosen assembly takes more than 30 minutes, you can use the standard normal distribution (Z-distribution) with the given mean and standard deviation. You'll need to calculate the Z-score for a time of 30 minutes and then use the Z-table to find the probability.\n",
        "\n",
        "The Z-score formula is as follows:\n",
        "\n",
        "            Z= X−μ/σ\n",
        "\n",
        "\n",
        "Where:\n",
        "\n",
        "* Z is the Z-score.\n",
        "* X is the value you want to find the probability for (in this case, 30 minutes).\n",
        "* μ is the mean time, which is 25 minutes.\n",
        "* σ is the standard deviation, which is 4 minutes.\n",
        "\n",
        "\n",
        "Step 1: Now, calculate the Z-score for 30 minutes:\n",
        "       \n",
        "           Z = 30−25/4\n",
        "           Z = 5/4\n",
        "           Z = 1.25\n",
        "\n",
        "Step 2: Using the Z table, find the probability associated with a Z-score of approximately 1.25. Looking up the value in the Z table, we found that the corresponding probability  is 0.8944.\n",
        "\n",
        "\n",
        "Step 3: Looking up a Z-table or using a calculator, We'll find that the probability of a Z-score greater than 1.25 is approximately 0.1056.Since the total area under the curve is 1. we subtract the comulative probability from of 1 to get of the pribability of the area beyond 1.25 standard deviations.\n",
        "\n",
        "        P(X>30) = 1-0.8944\n",
        "        P(X>30)  = 0.1056\n",
        "\n",
        "\n",
        "So, the probability that a randomly chosen assembly takes more than 30 minutes is approximately 0.1056, or 10.56%."
      ],
      "metadata": {
        "id": "rx_I5xZ_5iAS"
      }
    },
    {
      "cell_type": "code",
      "source": [],
      "metadata": {
        "id": "B_0VaDXc1Hth"
      },
      "execution_count": null,
      "outputs": []
    }
  ]
}